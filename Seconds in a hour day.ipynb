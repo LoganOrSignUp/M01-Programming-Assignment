{
 "cells": [
  {
   "cell_type": "code",
   "execution_count": 11,
   "id": "c7615ce8",
   "metadata": {},
   "outputs": [
    {
     "name": "stdout",
     "output_type": "stream",
     "text": [
      "Seconds per hour is: 3600\n",
      "Seconds per day is: 86400\n",
      "Seconds per day divided by seconds per hour using floating point division is: 24.0\n",
      "Seconds per day divided by seconds per hour using integer division is: 24\n"
     ]
    }
   ],
   "source": [
    "#define and print seconds per hour\n",
    "seconds_per_hour = 60*60\n",
    "print(\"Seconds per hour is:\",seconds_per_hour)\n",
    "\n",
    "#define and print seconds per day\n",
    "seconds_per_day = seconds_per_hour * 24\n",
    "print(\"Seconds per day is:\",seconds_per_day)\n",
    "\n",
    "#floating point division\n",
    "print(\"Seconds per day divided by seconds per hour using floating point division is:\",seconds_per_day/seconds_per_hour)\n",
    "\n",
    "#integer division\n",
    "print(\"Seconds per day divided by seconds per hour using integer division is:\",seconds_per_day//seconds_per_hour)\n"
   ]
  },
  {
   "cell_type": "code",
   "execution_count": null,
   "id": "e767024f",
   "metadata": {},
   "outputs": [],
   "source": []
  }
 ],
 "metadata": {
  "kernelspec": {
   "display_name": "Python 3 (ipykernel)",
   "language": "python",
   "name": "python3"
  },
  "language_info": {
   "codemirror_mode": {
    "name": "ipython",
    "version": 3
   },
   "file_extension": ".py",
   "mimetype": "text/x-python",
   "name": "python",
   "nbconvert_exporter": "python",
   "pygments_lexer": "ipython3",
   "version": "3.11.5"
  }
 },
 "nbformat": 4,
 "nbformat_minor": 5
}
